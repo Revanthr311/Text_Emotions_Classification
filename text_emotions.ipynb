{
 "cells": [
  {
   "cell_type": "code",
   "execution_count": 22,
   "id": "b184ff24",
   "metadata": {},
   "outputs": [],
   "source": [
    "import pandas as pd\n",
    "import tensorflow as tf\n",
    "from tensorflow import keras\n",
    "from keras.preprocessing.text import Tokenizer\n",
    "from tensorflow.keras.preprocessing.sequence import pad_sequences\n",
    "from sklearn.preprocessing import LabelEncoder\n",
    "from sklearn.model_selection import train_test_split\n",
    "from tensorflow.keras.models import Sequential\n",
    "from keras.layers import Embedding, Flatten, Dense"
   ]
  },
  {
   "cell_type": "code",
   "execution_count": 23,
   "id": "594de26f",
   "metadata": {},
   "outputs": [
    {
     "data": {
      "text/html": [
       "<div>\n",
       "<style scoped>\n",
       "    .dataframe tbody tr th:only-of-type {\n",
       "        vertical-align: middle;\n",
       "    }\n",
       "\n",
       "    .dataframe tbody tr th {\n",
       "        vertical-align: top;\n",
       "    }\n",
       "\n",
       "    .dataframe thead th {\n",
       "        text-align: right;\n",
       "    }\n",
       "</style>\n",
       "<table border=\"1\" class=\"dataframe\">\n",
       "  <thead>\n",
       "    <tr style=\"text-align: right;\">\n",
       "      <th></th>\n",
       "      <th>Text</th>\n",
       "      <th>Emotions</th>\n",
       "    </tr>\n",
       "  </thead>\n",
       "  <tbody>\n",
       "    <tr>\n",
       "      <th>0</th>\n",
       "      <td>i can go from feeling so hopeless to so damned...</td>\n",
       "      <td>sadness</td>\n",
       "    </tr>\n",
       "    <tr>\n",
       "      <th>1</th>\n",
       "      <td>im grabbing a minute to post i feel greedy wrong</td>\n",
       "      <td>anger</td>\n",
       "    </tr>\n",
       "    <tr>\n",
       "      <th>2</th>\n",
       "      <td>i am ever feeling nostalgic about the fireplac...</td>\n",
       "      <td>love</td>\n",
       "    </tr>\n",
       "    <tr>\n",
       "      <th>3</th>\n",
       "      <td>i am feeling grouchy</td>\n",
       "      <td>anger</td>\n",
       "    </tr>\n",
       "    <tr>\n",
       "      <th>4</th>\n",
       "      <td>ive been feeling a little burdened lately wasn...</td>\n",
       "      <td>sadness</td>\n",
       "    </tr>\n",
       "  </tbody>\n",
       "</table>\n",
       "</div>"
      ],
      "text/plain": [
       "                                                Text Emotions\n",
       "0  i can go from feeling so hopeless to so damned...  sadness\n",
       "1   im grabbing a minute to post i feel greedy wrong    anger\n",
       "2  i am ever feeling nostalgic about the fireplac...     love\n",
       "3                               i am feeling grouchy    anger\n",
       "4  ive been feeling a little burdened lately wasn...  sadness"
      ]
     },
     "execution_count": 23,
     "metadata": {},
     "output_type": "execute_result"
    }
   ],
   "source": [
    "train=pd.read_csv('dataset/train.txt', sep=';')\n",
    "train.columns=['Text','Emotions']\n",
    "train.head()"
   ]
  },
  {
   "cell_type": "code",
   "execution_count": 24,
   "id": "e523c5a6",
   "metadata": {},
   "outputs": [],
   "source": [
    "text=train['Text'].tolist()\n",
    "labels=train['Emotions'].tolist()"
   ]
  },
  {
   "cell_type": "code",
   "execution_count": 25,
   "id": "194351a4",
   "metadata": {},
   "outputs": [],
   "source": [
    "tokenizer=Tokenizer()\n",
    "tokenizer.fit_on_texts(text)"
   ]
  },
  {
   "cell_type": "code",
   "execution_count": 26,
   "id": "b2c9726f",
   "metadata": {},
   "outputs": [],
   "source": [
    "sequences=tokenizer.texts_to_sequences(text)\n",
    "max_len=max([len(seq) for seq in sequences])\n",
    "padded_sequences=pad_sequences(sequences,max_len)"
   ]
  },
  {
   "cell_type": "code",
   "execution_count": 27,
   "id": "a7becc5a",
   "metadata": {},
   "outputs": [],
   "source": [
    "label_encoder=LabelEncoder()\n",
    "labels=label_encoder.fit_transform(labels)"
   ]
  },
  {
   "cell_type": "code",
   "execution_count": 28,
   "id": "c5ff1537",
   "metadata": {},
   "outputs": [],
   "source": [
    "one_hot_encoding=keras.utils.to_categorical(labels)"
   ]
  },
  {
   "cell_type": "code",
   "execution_count": 32,
   "id": "8b2b3911",
   "metadata": {},
   "outputs": [],
   "source": [
    "xtrain,xtest,ytrain,ytest=train_test_split(padded_sequences, one_hot_encoding,test_size=0.2)"
   ]
  },
  {
   "cell_type": "code",
   "execution_count": 30,
   "id": "efeaf074",
   "metadata": {},
   "outputs": [],
   "source": [
    "#Define the Model\n",
    "\n",
    "model=Sequential()\n",
    "model.add(Embedding(input_dim=len(tokenizer.word_index)+1,\n",
    "                   output_dim=128,input_length=max_len))\n",
    "model.add(Flatten())\n",
    "model.add(Dense(units=128, activation='relu'))\n",
    "model.add(Dense(units=len(one_hot_encoding[0]),activation='softmax'))\n",
    "\n",
    "model.compile(optimizer=\"adam\", loss=\"categorical_crossentropy\", metrics=[\"accuracy\"])\n"
   ]
  },
  {
   "cell_type": "code",
   "execution_count": 33,
   "id": "07bfe2e7",
   "metadata": {},
   "outputs": [
    {
     "name": "stdout",
     "output_type": "stream",
     "text": [
      "Epoch 1/10\n",
      "450/450 [==============================] - 12s 11ms/step - loss: 1.2467 - accuracy: 0.5322 - val_loss: 0.7287 - val_accuracy: 0.7503\n",
      "Epoch 2/10\n",
      "450/450 [==============================] - 4s 10ms/step - loss: 0.2745 - accuracy: 0.9160 - val_loss: 0.5146 - val_accuracy: 0.8314\n",
      "Epoch 3/10\n",
      "450/450 [==============================] - 5s 10ms/step - loss: 0.0531 - accuracy: 0.9857 - val_loss: 0.5934 - val_accuracy: 0.8261\n",
      "Epoch 4/10\n",
      "450/450 [==============================] - 5s 10ms/step - loss: 0.0223 - accuracy: 0.9953 - val_loss: 0.6698 - val_accuracy: 0.8206\n",
      "Epoch 5/10\n",
      "450/450 [==============================] - 4s 10ms/step - loss: 0.0190 - accuracy: 0.9963 - val_loss: 0.6476 - val_accuracy: 0.8261\n",
      "Epoch 6/10\n",
      "450/450 [==============================] - 4s 10ms/step - loss: 0.0147 - accuracy: 0.9967 - val_loss: 0.6853 - val_accuracy: 0.8217\n",
      "Epoch 7/10\n",
      "450/450 [==============================] - 4s 10ms/step - loss: 0.0149 - accuracy: 0.9968 - val_loss: 0.6970 - val_accuracy: 0.8242\n",
      "Epoch 8/10\n",
      "450/450 [==============================] - 5s 10ms/step - loss: 0.0107 - accuracy: 0.9972 - val_loss: 0.7463 - val_accuracy: 0.8181\n",
      "Epoch 9/10\n",
      "450/450 [==============================] - 5s 10ms/step - loss: 0.0098 - accuracy: 0.9972 - val_loss: 0.8974 - val_accuracy: 0.8081\n",
      "Epoch 10/10\n",
      "450/450 [==============================] - 4s 10ms/step - loss: 0.0086 - accuracy: 0.9975 - val_loss: 0.8828 - val_accuracy: 0.8164\n"
     ]
    },
    {
     "data": {
      "text/plain": [
       "<keras.callbacks.History at 0x247ae081450>"
      ]
     },
     "execution_count": 33,
     "metadata": {},
     "output_type": "execute_result"
    }
   ],
   "source": [
    "model.fit(xtrain, ytrain, epochs=10, batch_size=32, validation_data=(xtest, ytest))"
   ]
  },
  {
   "cell_type": "code",
   "execution_count": 40,
   "id": "6353ebfe",
   "metadata": {},
   "outputs": [],
   "source": [
    "def prediction(text):\n",
    "    input_sequence = tokenizer.texts_to_sequences([text])\n",
    "    padded_input_sequence = pad_sequences(input_sequence, max_len)\n",
    "    prediction = model.predict(padded_input_sequence)\n",
    "    predicted_label = label_encoder.inverse_transform([np.argmax(prediction[0])])\n",
    "    return predicted_label"
   ]
  },
  {
   "cell_type": "code",
   "execution_count": 53,
   "id": "c03fcdad",
   "metadata": {
    "scrolled": false
   },
   "outputs": [
    {
     "name": "stdout",
     "output_type": "stream",
     "text": [
      "1/1 [==============================] - 0s 36ms/step\n"
     ]
    },
    {
     "data": {
      "text/plain": [
       "array(['joy'], dtype='<U8')"
      ]
     },
     "execution_count": 53,
     "metadata": {},
     "output_type": "execute_result"
    }
   ],
   "source": [
    "input_text='i left with my bouquet of red and yellow tulips under my arm feeling slightly more optimistic than when i arrived'\n",
    "prediction(input_text)"
   ]
  }
 ],
 "metadata": {},
 "nbformat": 4,
 "nbformat_minor": 5
}
